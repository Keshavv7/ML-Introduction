{
 "cells": [
  {
   "cell_type": "markdown",
   "id": "a08b8ffb",
   "metadata": {},
   "source": [
    "## Numpy Notes"
   ]
  },
  {
   "cell_type": "code",
   "execution_count": 3,
   "id": "6d5395c3",
   "metadata": {},
   "outputs": [
    {
     "name": "stdout",
     "output_type": "stream",
     "text": [
      "3\n"
     ]
    }
   ],
   "source": [
    "import numpy as np\n",
    "\n",
    "# Finding dimensions\n",
    "a = np.array([[[1,0],[0,1]],[[1,2],[3,4]]])\n",
    "print(a.ndim) "
   ]
  },
  {
   "cell_type": "code",
   "execution_count": 4,
   "id": "1df4100e",
   "metadata": {
    "scrolled": true
   },
   "outputs": [
    {
     "data": {
      "text/plain": [
       "numpy.ndarray"
      ]
     },
     "execution_count": 4,
     "metadata": {},
     "output_type": "execute_result"
    }
   ],
   "source": [
    "type(a)"
   ]
  },
  {
   "cell_type": "code",
   "execution_count": 6,
   "id": "3c8e13c7",
   "metadata": {},
   "outputs": [
    {
     "name": "stdout",
     "output_type": "stream",
     "text": [
      "2\n"
     ]
    }
   ],
   "source": [
    "print(a[1][0][1])"
   ]
  },
  {
   "cell_type": "code",
   "execution_count": 7,
   "id": "1c3d2c5b",
   "metadata": {},
   "outputs": [
    {
     "data": {
      "text/plain": [
       "(2, 2, 2)"
      ]
     },
     "execution_count": 7,
     "metadata": {},
     "output_type": "execute_result"
    }
   ],
   "source": [
    "a.shape"
   ]
  },
  {
   "cell_type": "code",
   "execution_count": 9,
   "id": "93708800",
   "metadata": {},
   "outputs": [
    {
     "data": {
      "text/plain": [
       "32"
      ]
     },
     "execution_count": 9,
     "metadata": {},
     "output_type": "execute_result"
    }
   ],
   "source": [
    "a.nbytes  # Space taken by array 8 int x 4 bytes/int = 32 bytes"
   ]
  },
  {
   "cell_type": "code",
   "execution_count": 4,
   "id": "df2fdba1",
   "metadata": {},
   "outputs": [
    {
     "name": "stdout",
     "output_type": "stream",
     "text": [
      "Old array: \n",
      " [ 0  1  2  3  4  5  6  7  8  9 10 11]\n",
      "New array: \n",
      " [[ 0  1  2]\n",
      " [ 3  4  5]\n",
      " [ 6  7  8]\n",
      " [ 9 10 11]]\n"
     ]
    }
   ],
   "source": [
    "import numpy as np\n",
    "\n",
    "# Reshaping arrays\n",
    "x = np.arange(12)\n",
    "print(\"Old array: \\n\", x)\n",
    "y = x.reshape(4,3)\n",
    "print(\"New array: \\n\", y)\n"
   ]
  },
  {
   "cell_type": "markdown",
   "id": "793d4081",
   "metadata": {},
   "source": [
    "<b>Note: Slicing in numpy arrays merely generates pointer references to original array instead of creating a new array</b>"
   ]
  },
  {
   "cell_type": "code",
   "execution_count": 7,
   "id": "90d8a841",
   "metadata": {},
   "outputs": [
    {
     "name": "stdout",
     "output_type": "stream",
     "text": [
      "Original list unchanged:  [0, 1, 2, 3, 4, 5, 6, 7, 8, 9]\n",
      "New list changed:  [2, 99, 4]\n"
     ]
    }
   ],
   "source": [
    "#Declaring lists\n",
    "a = [0,1,2,3,4,5,6,7,8,9]\n",
    "b = a[2:5]\n",
    "b[1] = 99\n",
    "print(\"Original list unchanged: \",a)\n",
    "print(\"New list changed: \", b)"
   ]
  },
  {
   "cell_type": "code",
   "execution_count": 8,
   "id": "3c33b95b",
   "metadata": {},
   "outputs": [
    {
     "name": "stdout",
     "output_type": "stream",
     "text": [
      "New array changed:  [ 2 99  4]\n",
      "Old array also changed: [ 0  1  2 99  4  5  6  7  8  9]\n"
     ]
    }
   ],
   "source": [
    "#Declaring numpy arrays\n",
    "a = np.arange(10)\n",
    "b = a[2:5]\n",
    "b[1] = 99\n",
    "print(\"New array changed: \", b)\n",
    "print(\"Old array also changed:\", a)"
   ]
  },
  {
   "cell_type": "markdown",
   "id": "8e84201d",
   "metadata": {},
   "source": [
    "<b>We can create a new array using the copy() function</b>"
   ]
  },
  {
   "cell_type": "code",
   "execution_count": 17,
   "id": "133f5785",
   "metadata": {},
   "outputs": [
    {
     "name": "stdout",
     "output_type": "stream",
     "text": [
      "Original array unchanged:  [0 1 2 3 4 5 6 7 8 9]\n",
      "New array changed:  [ 2 99  4]\n"
     ]
    }
   ],
   "source": [
    "a = np.arange(10)\n",
    "b = a[2:5].copy()\n",
    "b[1] = 99\n",
    "print(\"Original array unchanged: \",a)\n",
    "print(\"New array changed: \", b)"
   ]
  },
  {
   "cell_type": "code",
   "execution_count": 19,
   "id": "7024f9e0",
   "metadata": {},
   "outputs": [
    {
     "name": "stdout",
     "output_type": "stream",
     "text": [
      "[ 0  1  2  3 -4  5  6  7  8  9]\n"
     ]
    }
   ],
   "source": [
    "index = np.argwhere(a==4) #returns the indices with value 4\n",
    "a[index] = -4\n",
    "print(a)"
   ]
  },
  {
   "cell_type": "markdown",
   "id": "30caf8e9",
   "metadata": {},
   "source": [
    "<b>Generating Randox matrix</b>"
   ]
  },
  {
   "cell_type": "code",
   "execution_count": 21,
   "id": "a86e8b0b",
   "metadata": {},
   "outputs": [
    {
     "name": "stdout",
     "output_type": "stream",
     "text": [
      "[[0.07071    0.77290535 0.26652058]\n",
      " [0.75999655 0.36415824 0.10991264]\n",
      " [0.02772626 0.54164215 0.85765023]\n",
      " [0.27625404 0.16433267 0.39373655]]\n"
     ]
    }
   ],
   "source": [
    "a = np.random.rand(4,3)\n",
    "print(a)"
   ]
  },
  {
   "cell_type": "code",
   "execution_count": 22,
   "id": "504585b4",
   "metadata": {},
   "outputs": [
    {
     "name": "stdout",
     "output_type": "stream",
     "text": [
      "[[1. 8. 3.]\n",
      " [8. 4. 1.]\n",
      " [0. 5. 9.]\n",
      " [3. 2. 4.]]\n"
     ]
    }
   ],
   "source": [
    "#Rounding it to integers\n",
    "a = np.round(10*a)\n",
    "print(a)"
   ]
  },
  {
   "cell_type": "code",
   "execution_count": 23,
   "id": "127d57b6",
   "metadata": {},
   "outputs": [
    {
     "name": "stdout",
     "output_type": "stream",
     "text": [
      "[0. 5. 9.]\n"
     ]
    }
   ],
   "source": [
    "#Accessing ith row\n",
    "i=2\n",
    "print(a[i,:])"
   ]
  },
  {
   "cell_type": "code",
   "execution_count": 25,
   "id": "f4ec4909",
   "metadata": {},
   "outputs": [
    {
     "name": "stdout",
     "output_type": "stream",
     "text": [
      "[8. 4. 5. 2.]\n"
     ]
    }
   ],
   "source": [
    "#Accessing jth column\n",
    "j=1\n",
    "print(a[:,j])"
   ]
  },
  {
   "cell_type": "code",
   "execution_count": 26,
   "id": "7a11cc90",
   "metadata": {},
   "outputs": [
    {
     "name": "stdout",
     "output_type": "stream",
     "text": [
      "[[8. 4.]\n",
      " [0. 5.]]\n"
     ]
    }
   ],
   "source": [
    "#Accessing submatrix\n",
    "print(a[1:3,0:2])"
   ]
  },
  {
   "cell_type": "code",
   "execution_count": 27,
   "id": "c714ef35",
   "metadata": {},
   "outputs": [
    {
     "name": "stdout",
     "output_type": "stream",
     "text": [
      "[[1. 8. 0. 3.]\n",
      " [8. 4. 5. 2.]\n",
      " [3. 1. 9. 4.]]\n"
     ]
    }
   ],
   "source": [
    "print(a.T) #Taking transpose"
   ]
  },
  {
   "cell_type": "markdown",
   "id": "9942e6e3",
   "metadata": {},
   "source": [
    "<b>Linear algebra in Numpy</b>"
   ]
  },
  {
   "cell_type": "code",
   "execution_count": 31,
   "id": "85af0d61",
   "metadata": {},
   "outputs": [
    {
     "name": "stdout",
     "output_type": "stream",
     "text": [
      "B matrix: \n",
      " [[ 0.  6.  2.]\n",
      " [ 5.  5.  2.]\n",
      " [ 9. 10.  3.]]\n",
      "B inverse: \n",
      " [[-0.17857143  0.07142857  0.07142857]\n",
      " [ 0.10714286 -0.64285714  0.35714286]\n",
      " [ 0.17857143  1.92857143 -1.07142857]]\n"
     ]
    }
   ],
   "source": [
    "import numpy.linalg as la\n",
    "b = np.round(10*np.random.rand(3,3))\n",
    "print(\"B matrix: \\n\", b)\n",
    "print(\"B inverse: \\n\", la.inv(b))"
   ]
  },
  {
   "cell_type": "code",
   "execution_count": 32,
   "id": "3b5d7243",
   "metadata": {},
   "outputs": [
    {
     "name": "stdout",
     "output_type": "stream",
     "text": [
      "sorted columns:  \n",
      " [[ 0.  5.  2.]\n",
      " [ 5.  6.  2.]\n",
      " [ 9. 10.  3.]]\n",
      "sorted rows: \n",
      " [[ 0.  2.  5.]\n",
      " [ 2.  5.  6.]\n",
      " [ 3.  9. 10.]]\n"
     ]
    }
   ],
   "source": [
    "#Sort columns\n",
    "b.sort(axis=0)\n",
    "print(\"sorted columns:  \\n\", b)\n",
    "\n",
    "#Sort rows\n",
    "b.sort(axis=1)\n",
    "print(\"sorted rows: \\n\", b)"
   ]
  },
  {
   "cell_type": "markdown",
   "id": "a70f0a2a",
   "metadata": {},
   "source": [
    "<b>Broadcasting</b>"
   ]
  },
  {
   "cell_type": "code",
   "execution_count": 33,
   "id": "bb5f2003",
   "metadata": {},
   "outputs": [
    {
     "name": "stdout",
     "output_type": "stream",
     "text": [
      "D: \n",
      " [[ 5.  7. 10.]\n",
      " [ 7. 10. 11.]\n",
      " [ 8. 14. 15.]]\n",
      "E: \n",
      " [[ 5.  7. 10.]\n",
      " [ 7. 10. 11.]\n",
      " [ 8. 14. 15.]]\n"
     ]
    }
   ],
   "source": [
    "#Instead of doing this\n",
    "d = b + [[5,5,5],[5,5,5],[5,5,5]]\n",
    "print(\"D: \\n\",d)\n",
    "#We may just write\n",
    "e = b+5\n",
    "print(\"E: \\n\", e)"
   ]
  },
  {
   "cell_type": "code",
   "execution_count": 44,
   "id": "82b8e6c4",
   "metadata": {},
   "outputs": [
    {
     "name": "stdout",
     "output_type": "stream",
     "text": [
      "[[2 3]\n",
      " [5 6]]\n"
     ]
    }
   ],
   "source": [
    "#This is called broadcasting as one scalar value is broadcasted onto an entire matrix having similar dimensions\n",
    "#Another example\n",
    "X = np.array([[1,2],[3,4]])\n",
    "#If we want to add [[1,1],[2,2]], we may just add [1,2]\n",
    "print(X+(np.arange(1,3).reshape(2,1)))"
   ]
  },
  {
   "cell_type": "markdown",
   "id": "4c80b6cc",
   "metadata": {},
   "source": [
    "<b>HSTACK, VSTACK, SORT</b>"
   ]
  },
  {
   "cell_type": "code",
   "execution_count": 49,
   "id": "6c4fdea9",
   "metadata": {},
   "outputs": [
    {
     "name": "stdout",
     "output_type": "stream",
     "text": [
      "Original A: \n",
      " [[0. 9. 9.]\n",
      " [1. 4. 5.]]\n",
      "Original B: \n",
      " [[2. 9.]\n",
      " [3. 9.]]\n",
      "Original C: \n",
      " [[6. 9. 6.]]\n",
      "Hstack: \n",
      " [[0. 9. 9. 2. 9.]\n",
      " [1. 4. 5. 3. 9.]]\n",
      "Vstack: \n",
      " [[0. 9. 9.]\n",
      " [1. 4. 5.]\n",
      " [6. 9. 6.]]\n",
      "Sorted array:  [0 1 2 3 4 5 6 7 8 9]\n"
     ]
    }
   ],
   "source": [
    "A = np.round(10*np.random.rand(2,3))\n",
    "print(\"Original A: \\n\", A)\n",
    "\n",
    "B = np.round(10*np.random.rand(2,2))\n",
    "print(\"Original B: \\n\", B)\n",
    "\n",
    "C = np.round(10*np.random.rand(1,3))\n",
    "print(\"Original C: \\n\", C)\n",
    "\n",
    "#Concatenating horizontally\n",
    "X = np.hstack((A,B))\n",
    "print(\"Hstack: \\n\", X)\n",
    "\n",
    "#Concatenating vertically\n",
    "Y = np.vstack((A,C))\n",
    "print(\"Vstack: \\n\", Y)\n",
    "\n",
    "#Sorting\n",
    "arr = np.array([2,4,5,1,3,8,0,6,9,7])\n",
    "print(\"Sorted array: \", np.sort(arr))"
   ]
  },
  {
   "cell_type": "markdown",
   "id": "d30e3776",
   "metadata": {},
   "source": [
    "<b>Testing Speed</b>"
   ]
  },
  {
   "cell_type": "code",
   "execution_count": 54,
   "id": "b36a476f",
   "metadata": {},
   "outputs": [
    {
     "name": "stdout",
     "output_type": "stream",
     "text": [
      "81.8 ms ± 415 µs per loop (mean ± std. dev. of 7 runs, 10 loops each)\n",
      "1.39 ms ± 112 µs per loop (mean ± std. dev. of 7 runs, 1,000 loops each)\n"
     ]
    }
   ],
   "source": [
    "b = np.random.rand(1000000)\n",
    "%timeit sum(b)\n",
    "%timeit np.sum(b)"
   ]
  },
  {
   "cell_type": "code",
   "execution_count": 55,
   "id": "691afdda",
   "metadata": {},
   "outputs": [
    {
     "name": "stdout",
     "output_type": "stream",
     "text": [
      "107 ms ± 888 µs per loop (mean ± std. dev. of 7 runs, 10 loops each)\n"
     ]
    }
   ],
   "source": [
    "#We can see how fast numpy's universal function is in summing up the values\n",
    "\n",
    "#Let us see how much time it takes to sum using a for loop\n",
    "\n",
    "def mySum():\n",
    "    s=0\n",
    "    for x in b:\n",
    "        s+=x\n",
    "    return s\n",
    "\n",
    "%timeit mySum()"
   ]
  },
  {
   "cell_type": "code",
   "execution_count": null,
   "id": "f9c8ed2f",
   "metadata": {},
   "outputs": [],
   "source": [
    "#Numpy clearly is the fastest alternative"
   ]
  }
 ],
 "metadata": {
  "kernelspec": {
   "display_name": "Python 3 (ipykernel)",
   "language": "python",
   "name": "python3"
  },
  "language_info": {
   "codemirror_mode": {
    "name": "ipython",
    "version": 3
   },
   "file_extension": ".py",
   "mimetype": "text/x-python",
   "name": "python",
   "nbconvert_exporter": "python",
   "pygments_lexer": "ipython3",
   "version": "3.10.9"
  }
 },
 "nbformat": 4,
 "nbformat_minor": 5
}
